{
  "nbformat": 4,
  "nbformat_minor": 0,
  "metadata": {
    "colab": {
      "name": "0509.ipynb",
      "provenance": [],
      "authorship_tag": "ABX9TyMw5Ht9xIA55mHoiqyyJKAB",
      "include_colab_link": true
    },
    "kernelspec": {
      "name": "python3",
      "display_name": "Python 3"
    },
    "language_info": {
      "name": "python"
    }
  },
  "cells": [
    {
      "cell_type": "markdown",
      "metadata": {
        "id": "view-in-github",
        "colab_type": "text"
      },
      "source": [
        "<a href=\"https://colab.research.google.com/github/hwf1013/introduction-to-Computers/blob/main/0509.ipynb\" target=\"_parent\"><img src=\"https://colab.research.google.com/assets/colab-badge.svg\" alt=\"Open In Colab\"/></a>"
      ]
    },
    {
      "cell_type": "code",
      "source": [
        "print(\"123\")"
      ],
      "metadata": {
        "colab": {
          "base_uri": "https://localhost:8080/"
        },
        "id": "rKzV1N4IQmEM",
        "outputId": "9858229d-19c6-484d-b920-fd062ea7d96e"
      },
      "execution_count": 1,
      "outputs": [
        {
          "output_type": "stream",
          "name": "stdout",
          "text": [
            "123\n"
          ]
        }
      ]
    },
    {
      "cell_type": "code",
      "execution_count": null,
      "metadata": {
        "colab": {
          "base_uri": "https://localhost:8080/"
        },
        "id": "XoMHwgE87klU",
        "outputId": "e4b51a61-fbd8-4ae6-b425-a061c423820d"
      },
      "outputs": [
        {
          "output_type": "stream",
          "name": "stdout",
          "text": [
            "請輸入你的體溫35\n",
            "體溫正常!\n"
          ]
        }
      ],
      "source": [
        "temp=float(input('請輸入你的體溫'))\n",
        "if temp >= 37.5:\n",
        "  print('體溫過高!')\n",
        "elif temp >= 37 and temp < 37.4:\n",
        "  print('體溫略高!')\n",
        "elif temp >= 34 and temp < 36.9:\n",
        "  print('體溫正常!')\n",
        "else:\n",
        "  print('體溫異常,請重新量測!')"
      ]
    },
    {
      "cell_type": "code",
      "source": [
        "score= input('請輸入成績')\n",
        "if (int(score) >= 90):\n",
        "  print(\"A\")\n",
        "elif (int(score) >= 80):\n",
        "  print(\"B\")\n",
        "elif (int(score) >= 70):\n",
        "  print(\"C\")\n",
        "elif (int(score) >= 60):\n",
        "  print(\"D\")\n",
        "else:\n",
        "  print(\"E\")"
      ],
      "metadata": {
        "colab": {
          "base_uri": "https://localhost:8080/"
        },
        "id": "xZT9Gd7Z_0PR",
        "outputId": "cf8520a4-cdac-4449-8d89-893193e914e3"
      },
      "execution_count": null,
      "outputs": [
        {
          "output_type": "stream",
          "name": "stdout",
          "text": [
            "請輸入成績90\n",
            "A\n"
          ]
        }
      ]
    },
    {
      "cell_type": "code",
      "source": [
        "money = int(input(\"請輸入購物金額:\"))\n",
        "if (money >= 10000):\n",
        " if (money >= 100000): \n",
        "   print(\"八折\",money * 0.8,end='元\\n')\n",
        " elif(money >= 50000): \n",
        "   print(\"八五折\",money * 0.85,end='元\\n')\n",
        " elif (money >= 30000): \n",
        "   print(\"九折\",money * 0.9,end='元\\n')\n",
        " else: \n",
        "   print(\"九五折\",money * 0.95,end='元\\n')\n",
        "else:\n",
        "  print('沒打折',money,end='元\\n')"
      ],
      "metadata": {
        "colab": {
          "base_uri": "https://localhost:8080/"
        },
        "id": "pV9tTxmQVyQF",
        "outputId": "cd1d6fb0-e5c5-4954-d034-b32ab4b1d33e"
      },
      "execution_count": 10,
      "outputs": [
        {
          "output_type": "stream",
          "name": "stdout",
          "text": [
            "請輸入購物金額:50000\n",
            "八五折 42500.0元\n"
          ]
        }
      ]
    },
    {
      "cell_type": "code",
      "source": [
        "season = int(input('請輸入月份:'))\n",
        "if( season < 13):\n",
        "  if(season <= 5)and(season >= 3):\n",
        "    print(season,'月是春天!')\n",
        "  elif(season <= 8)and(season >= 6):\n",
        "    print(season,'月是夏天!')\n",
        "  elif(season <= 11)and(season >= 9):\n",
        "    print(season,'月是秋天!')\n",
        "  else:\n",
        "    print(season,\"月是冬天!\")\n",
        "else:\n",
        "  print('月份不在範圍內!')"
      ],
      "metadata": {
        "colab": {
          "base_uri": "https://localhost:8080/"
        },
        "id": "scmOWeUJY5lG",
        "outputId": "f3e64795-432b-453d-ebc4-7ad6d4625c34"
      },
      "execution_count": 15,
      "outputs": [
        {
          "output_type": "stream",
          "name": "stdout",
          "text": [
            "請輸入月份:13\n",
            "月份不在範圍內!\n"
          ]
        }
      ]
    },
    {
      "cell_type": "code",
      "source": [
        "tax = int(input('請輸入今年收入淨額:'))\n",
        "if( tax >= 300000):\n",
        "   if( tax >= 2000000):\n",
        "     print('付稅金額:',tax * 0.3,'元')\n",
        "   elif( tax >= 1000000):\n",
        "     print('付稅金額:',tax * 0.21,'元')\n",
        "   elif( tax >= 600000):\n",
        "     print('付稅金額:',tax * 0.13,'元')\n",
        "   else:\n",
        "     print('付稅金額:',tax * 0.06,'元')\n",
        "else:\n",
        "  print('付稅金額:0元')"
      ],
      "metadata": {
        "colab": {
          "base_uri": "https://localhost:8080/"
        },
        "id": "ILhUm0a3Y5-W",
        "outputId": "608159f2-a714-432d-deb9-80f81ff94899"
      },
      "execution_count": 18,
      "outputs": [
        {
          "output_type": "stream",
          "name": "stdout",
          "text": [
            "請輸入今年收入淨額:100000\n",
            "付稅金額:0元\n"
          ]
        }
      ]
    }
  ]
}