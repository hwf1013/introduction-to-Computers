{
  "nbformat": 4,
  "nbformat_minor": 0,
  "metadata": {
    "colab": {
      "name": "「0516.ipynb」的副本",
      "provenance": [],
      "authorship_tag": "ABX9TyOn8EHZO5dpuMk1dKd6X66g",
      "include_colab_link": true
    },
    "kernelspec": {
      "name": "python3",
      "display_name": "Python 3"
    },
    "language_info": {
      "name": "python"
    }
  },
  "cells": [
    {
      "cell_type": "markdown",
      "metadata": {
        "id": "view-in-github",
        "colab_type": "text"
      },
      "source": [
        "<a href=\"https://colab.research.google.com/github/hwf1013/introduction-to-Computers/blob/main/%E3%80%8C0516_ipynb%E3%80%8D%E7%9A%84%E5%89%AF%E6%9C%AC.ipynb\" target=\"_parent\"><img src=\"https://colab.research.google.com/assets/colab-badge.svg\" alt=\"Open In Colab\"/></a>"
      ]
    },
    {
      "cell_type": "code",
      "source": [
        "print(\"123\")"
      ],
      "metadata": {
        "colab": {
          "base_uri": "https://localhost:8080/"
        },
        "id": "juynLepWaJjz",
        "outputId": "932cd99e-7208-415f-b1b3-e2913fcdebf7"
      },
      "execution_count": null,
      "outputs": [
        {
          "output_type": "stream",
          "name": "stdout",
          "text": [
            "123\n"
          ]
        }
      ]
    },
    {
      "cell_type": "code",
      "execution_count": null,
      "metadata": {
        "id": "mf2WfcsP7tu2"
      },
      "outputs": [],
      "source": [
        "i = range(5)"
      ]
    },
    {
      "cell_type": "code",
      "source": [
        "print(type(i))"
      ],
      "metadata": {
        "colab": {
          "base_uri": "https://localhost:8080/"
        },
        "id": "Kz3DlYk69LSH",
        "outputId": "fd481423-f914-4fb8-bd85-bc250cee2be4"
      },
      "execution_count": null,
      "outputs": [
        {
          "output_type": "stream",
          "name": "stdout",
          "text": [
            "<class 'range'>\n"
          ]
        }
      ]
    },
    {
      "cell_type": "code",
      "source": [
        "print(i)"
      ],
      "metadata": {
        "colab": {
          "base_uri": "https://localhost:8080/"
        },
        "id": "VEUBhTRh9Q-j",
        "outputId": "bee1ebe5-13ef-4758-9885-ebde08aecd2d"
      },
      "execution_count": null,
      "outputs": [
        {
          "output_type": "stream",
          "name": "stdout",
          "text": [
            "range(0, 5)\n"
          ]
        }
      ]
    },
    {
      "cell_type": "code",
      "source": [
        "print(list(i))"
      ],
      "metadata": {
        "colab": {
          "base_uri": "https://localhost:8080/"
        },
        "id": "-KPweomA9cGm",
        "outputId": "180ec75e-eb4f-464c-dad8-05fd047ad162"
      },
      "execution_count": null,
      "outputs": [
        {
          "output_type": "stream",
          "name": "stdout",
          "text": [
            "[0, 1, 2, 3, 4]\n"
          ]
        }
      ]
    },
    {
      "cell_type": "code",
      "source": [
        "a = range(3,8)\n",
        "print(list(a))"
      ],
      "metadata": {
        "colab": {
          "base_uri": "https://localhost:8080/"
        },
        "id": "GeGhNUFC9qWe",
        "outputId": "63ea99be-593f-4413-e101-8a46a2bc70c8"
      },
      "execution_count": null,
      "outputs": [
        {
          "output_type": "stream",
          "name": "stdout",
          "text": [
            "[3, 4, 5, 6, 7]\n"
          ]
        }
      ]
    },
    {
      "cell_type": "code",
      "source": [
        "b = range(-2,4)\n",
        "print(list(b))"
      ],
      "metadata": {
        "colab": {
          "base_uri": "https://localhost:8080/"
        },
        "id": "nfhaJ01N93rS",
        "outputId": "121f57e7-5cf5-47af-de9b-26c4fe2c698b"
      },
      "execution_count": null,
      "outputs": [
        {
          "output_type": "stream",
          "name": "stdout",
          "text": [
            "[-2, -1, 0, 1, 2, 3]\n"
          ]
        }
      ]
    },
    {
      "cell_type": "code",
      "source": [
        "c = range(3,8,1)\n",
        "print(list(c))"
      ],
      "metadata": {
        "colab": {
          "base_uri": "https://localhost:8080/"
        },
        "id": "87wWkZ4XAilm",
        "outputId": "a68a1227-3e64-43aa-cde6-c112b821cc5b"
      },
      "execution_count": null,
      "outputs": [
        {
          "output_type": "stream",
          "name": "stdout",
          "text": [
            "[3, 4, 5, 6, 7]\n"
          ]
        }
      ]
    },
    {
      "cell_type": "code",
      "source": [
        "d = range(3,8,2)\n",
        "print(list(d))"
      ],
      "metadata": {
        "colab": {
          "base_uri": "https://localhost:8080/"
        },
        "id": "ucjfsYlGcIuT",
        "outputId": "f7c7f665-dbdb-44fe-d01f-86feb51571e6"
      },
      "execution_count": null,
      "outputs": [
        {
          "output_type": "stream",
          "name": "stdout",
          "text": [
            "[3, 5, 7]\n"
          ]
        }
      ]
    },
    {
      "cell_type": "code",
      "source": [
        "e = range(8,3,-1)\n",
        "print(list(e))"
      ],
      "metadata": {
        "colab": {
          "base_uri": "https://localhost:8080/"
        },
        "id": "zilsdOVzcJPP",
        "outputId": "4f7b7bf9-6f01-4267-d7c2-7af87b725e04"
      },
      "execution_count": null,
      "outputs": [
        {
          "output_type": "stream",
          "name": "stdout",
          "text": [
            "[8, 7, 6, 5, 4]\n"
          ]
        }
      ]
    },
    {
      "cell_type": "code",
      "source": [
        "f = range(9)\n",
        "print(list(f))"
      ],
      "metadata": {
        "colab": {
          "base_uri": "https://localhost:8080/"
        },
        "id": "_GNz1ttbBQG6",
        "outputId": "00538ce4-a731-44b9-febd-05fcdb3b0929"
      },
      "execution_count": null,
      "outputs": [
        {
          "output_type": "stream",
          "name": "stdout",
          "text": [
            "[0, 1, 2, 3, 4, 5, 6, 7, 8]\n"
          ]
        }
      ]
    },
    {
      "cell_type": "code",
      "source": [
        "g = range(1,10)\n",
        "print(list(g))"
      ],
      "metadata": {
        "colab": {
          "base_uri": "https://localhost:8080/"
        },
        "id": "-QDySvOjBevg",
        "outputId": "8efe33df-0a2d-4872-ad8b-f5850bf6f236"
      },
      "execution_count": null,
      "outputs": [
        {
          "output_type": "stream",
          "name": "stdout",
          "text": [
            "[1, 2, 3, 4, 5, 6, 7, 8, 9]\n"
          ]
        }
      ]
    },
    {
      "cell_type": "code",
      "source": [
        "h = range(1,10,2)\n",
        "print(list(h))"
      ],
      "metadata": {
        "colab": {
          "base_uri": "https://localhost:8080/"
        },
        "id": "kdWf8HmrBqDW",
        "outputId": "be0d8742-41ab-4dc7-d180-de5934847ac5"
      },
      "execution_count": null,
      "outputs": [
        {
          "output_type": "stream",
          "name": "stdout",
          "text": [
            "[1, 3, 5, 7, 9]\n"
          ]
        }
      ]
    },
    {
      "cell_type": "code",
      "source": [
        "i = range(10,1,-2)\n",
        "print(list(i))"
      ],
      "metadata": {
        "colab": {
          "base_uri": "https://localhost:8080/"
        },
        "id": "j5ps3yhiB0Wb",
        "outputId": "91f91101-21ff-459a-9412-db30bd8e35f8"
      },
      "execution_count": null,
      "outputs": [
        {
          "output_type": "stream",
          "name": "stdout",
          "text": [
            "[10, 8, 6, 4, 2]\n"
          ]
        }
      ]
    },
    {
      "cell_type": "code",
      "source": [
        "for n in range(3):\n",
        "  print(n)"
      ],
      "metadata": {
        "colab": {
          "base_uri": "https://localhost:8080/"
        },
        "id": "0ozp5ZMYC3ft",
        "outputId": "ea6208cc-eb6d-485d-c4c0-d638bd69cd29"
      },
      "execution_count": null,
      "outputs": [
        {
          "output_type": "stream",
          "name": "stdout",
          "text": [
            "0\n",
            "1\n",
            "2\n"
          ]
        }
      ]
    },
    {
      "cell_type": "code",
      "source": [
        "for n in range(10):\n",
        "  print(n,end=\",\")"
      ],
      "metadata": {
        "colab": {
          "base_uri": "https://localhost:8080/"
        },
        "id": "BR9EYZuuDv2v",
        "outputId": "9e198ed6-40ca-4cef-c073-f1af0de045b6"
      },
      "execution_count": null,
      "outputs": [
        {
          "output_type": "stream",
          "name": "stdout",
          "text": [
            "0,1,2,3,4,5,6,7,8,9,"
          ]
        }
      ]
    },
    {
      "cell_type": "code",
      "source": [
        "for n in range(0,10,2):\n",
        "  print(n,end=\",\")"
      ],
      "metadata": {
        "colab": {
          "base_uri": "https://localhost:8080/"
        },
        "id": "EmXpriDwEEqw",
        "outputId": "b2ac8bc0-33a4-4940-ae71-e1101e6aa577"
      },
      "execution_count": null,
      "outputs": [
        {
          "output_type": "stream",
          "name": "stdout",
          "text": [
            "0,2,4,6,8,"
          ]
        }
      ]
    },
    {
      "cell_type": "code",
      "source": [
        "test = int(input('請輸入一個正整數:'))\n",
        "for m in range(1,test+1):\n",
        "  print(m,end=' ')"
      ],
      "metadata": {
        "colab": {
          "base_uri": "https://localhost:8080/"
        },
        "id": "wz_QHlKDH6kC",
        "outputId": "dfb81710-0dec-4139-9bd5-d5445618e42e"
      },
      "execution_count": null,
      "outputs": [
        {
          "output_type": "stream",
          "name": "stdout",
          "text": [
            "請輸入一個正整數:12\n",
            "1 2 3 4 5 6 7 8 9 10 11 12 "
          ]
        }
      ]
    },
    {
      "cell_type": "code",
      "source": [
        "sum = 0\n",
        "for n in range(3):\n",
        "  sum = sum+n\n",
        "print(sum)"
      ],
      "metadata": {
        "colab": {
          "base_uri": "https://localhost:8080/"
        },
        "id": "71J1LiXLJ1sw",
        "outputId": "2c372af5-3d5a-424a-e9ed-0180cb86bf5b"
      },
      "execution_count": null,
      "outputs": [
        {
          "output_type": "stream",
          "name": "stdout",
          "text": [
            "3\n"
          ]
        }
      ]
    },
    {
      "cell_type": "code",
      "source": [
        "sum = 0\n",
        "for n in range(10,1,-2):\n",
        "  sum = sum+n\n",
        "print(sum)"
      ],
      "metadata": {
        "colab": {
          "base_uri": "https://localhost:8080/"
        },
        "id": "npz8QJWpfHa8",
        "outputId": "2b88440e-6194-4478-8835-34ea545821ce"
      },
      "execution_count": null,
      "outputs": [
        {
          "output_type": "stream",
          "name": "stdout",
          "text": [
            "30\n"
          ]
        }
      ]
    },
    {
      "cell_type": "code",
      "source": [
        "a = int(input('請輸入一個正整數:'))\n",
        "sum = 0\n",
        "for n in range(a+1):\n",
        "  sum = sum+n\n",
        "print('1到',a,'的整數和為',sum)"
      ],
      "metadata": {
        "colab": {
          "base_uri": "https://localhost:8080/"
        },
        "id": "KQ41XOqEgDpQ",
        "outputId": "8b90e5ef-b05f-49f0-c293-fa91ee944892"
      },
      "execution_count": null,
      "outputs": [
        {
          "output_type": "stream",
          "name": "stdout",
          "text": [
            "請輸入一個正整數:10\n",
            "1到 10 的整數和為 55\n"
          ]
        }
      ]
    },
    {
      "cell_type": "code",
      "source": [
        "a = int(input('請輸入一個正整數:'))\n",
        "sum = 0\n",
        "for n in range(a+1):\n",
        "  sum = sum+n\n",
        "print('1到',a,'的整數和為',sum)"
      ],
      "metadata": {
        "colab": {
          "base_uri": "https://localhost:8080/"
        },
        "id": "Xr8ecbXohrI-",
        "outputId": "525db048-b948-47f0-aa1d-cc01830266fd"
      },
      "execution_count": null,
      "outputs": [
        {
          "output_type": "stream",
          "name": "stdout",
          "text": [
            "請輸入一個正整數:50\n",
            "1到 50 的整數和為 1275\n"
          ]
        }
      ]
    },
    {
      "cell_type": "code",
      "source": [
        "sum = 0\n",
        "test = int(input('請輸入一個正整數:'))\n",
        "for m in range(1,test+1):\n",
        "  sum = sum+m\n",
        "  print('1到',str(m),'的整數和為',sum)"
      ],
      "metadata": {
        "colab": {
          "base_uri": "https://localhost:8080/"
        },
        "id": "Ezz7DQ1Sh2dY",
        "outputId": "3694b446-20b4-47d2-e705-dd401952f34e"
      },
      "execution_count": null,
      "outputs": [
        {
          "output_type": "stream",
          "name": "stdout",
          "text": [
            "請輸入一個正整數:50\n",
            "1到 1 的整數和為 1\n",
            "1到 2 的整數和為 3\n",
            "1到 3 的整數和為 6\n",
            "1到 4 的整數和為 10\n",
            "1到 5 的整數和為 15\n",
            "1到 6 的整數和為 21\n",
            "1到 7 的整數和為 28\n",
            "1到 8 的整數和為 36\n",
            "1到 9 的整數和為 45\n",
            "1到 10 的整數和為 55\n",
            "1到 11 的整數和為 66\n",
            "1到 12 的整數和為 78\n",
            "1到 13 的整數和為 91\n",
            "1到 14 的整數和為 105\n",
            "1到 15 的整數和為 120\n",
            "1到 16 的整數和為 136\n",
            "1到 17 的整數和為 153\n",
            "1到 18 的整數和為 171\n",
            "1到 19 的整數和為 190\n",
            "1到 20 的整數和為 210\n",
            "1到 21 的整數和為 231\n",
            "1到 22 的整數和為 253\n",
            "1到 23 的整數和為 276\n",
            "1到 24 的整數和為 300\n",
            "1到 25 的整數和為 325\n",
            "1到 26 的整數和為 351\n",
            "1到 27 的整數和為 378\n",
            "1到 28 的整數和為 406\n",
            "1到 29 的整數和為 435\n",
            "1到 30 的整數和為 465\n",
            "1到 31 的整數和為 496\n",
            "1到 32 的整數和為 528\n",
            "1到 33 的整數和為 561\n",
            "1到 34 的整數和為 595\n",
            "1到 35 的整數和為 630\n",
            "1到 36 的整數和為 666\n",
            "1到 37 的整數和為 703\n",
            "1到 38 的整數和為 741\n",
            "1到 39 的整數和為 780\n",
            "1到 40 的整數和為 820\n",
            "1到 41 的整數和為 861\n",
            "1到 42 的整數和為 903\n",
            "1到 43 的整數和為 946\n",
            "1到 44 的整數和為 990\n",
            "1到 45 的整數和為 1035\n",
            "1到 46 的整數和為 1081\n",
            "1到 47 的整數和為 1128\n",
            "1到 48 的整數和為 1176\n",
            "1到 49 的整數和為 1225\n",
            "1到 50 的整數和為 1275\n"
          ]
        }
      ]
    }
  ]
}